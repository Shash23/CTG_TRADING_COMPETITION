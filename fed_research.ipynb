{
 "cells": [
  {
   "cell_type": "markdown",
   "metadata": {},
   "source": [
    "### Fed-Watch BTC Price Prediction\n",
    "Requirements:Conda, pandas, numpy, sckikitlearn, matplotlib\n",
    "\n",
    "conda create --name fed_research\n",
    "\n",
    "conda activate fed_research\n",
    "\n",
    "conda install pandas numpy scikit-learn matplotlib\n",
    "\n",
    "\n"
   ]
  },
  {
   "cell_type": "code",
   "execution_count": null,
   "metadata": {},
   "outputs": [
    {
     "ename": "",
     "evalue": "",
     "output_type": "error",
     "traceback": [
      "\u001b[1;31mRunning cells with 'fed_research' requires the ipykernel package.\n",
      "\u001b[1;31mRun the following command to install 'ipykernel' into the Python environment. \n",
      "\u001b[1;31mCommand: 'conda install -n fed_research ipykernel --update-deps --force-reinstall'"
     ]
    }
   ],
   "source": [
    "### Imports\n",
    "import pandas as pd\n",
    "import numpy as np\n",
    "import pandas as pd\n",
    "import numpy as np\n",
    "import csv\n",
    "import matplotlib.pyplot as plt\n",
    "\n",
    "# BEGIN: /Users/charlesmaloney/Developer/github.com/ccmaloney/CTG_TRADING_COMPETITION/fed_research.ipynb\n",
    "### Imports\n",
    "import matplotlib.pyplot as plt\n",
    "# END: /Users/charlesmaloney/Developer/github.com/ccmaloney/CTG_TRADING_COMPETITION/fed_research.ipynb\n",
    "\n",
    "\n"
   ]
  },
  {
   "cell_type": "code",
   "execution_count": null,
   "metadata": {},
   "outputs": [],
   "source": []
  }
 ],
 "metadata": {
  "kernelspec": {
   "display_name": "fed_research",
   "language": "python",
   "name": "python3"
  },
  "language_info": {
   "name": "python",
   "version": "3.12.2"
  }
 },
 "nbformat": 4,
 "nbformat_minor": 2
}
